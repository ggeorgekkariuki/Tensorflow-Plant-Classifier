{
  "nbformat": 4,
  "nbformat_minor": 0,
  "metadata": {
    "colab": {
      "name": "TF Plant Classification.ipynb",
      "provenance": [],
      "authorship_tag": "ABX9TyMdd270iFMTxdvdNdkjXfQ9",
      "include_colab_link": true
    },
    "kernelspec": {
      "name": "python3",
      "display_name": "Python 3"
    },
    "language_info": {
      "name": "python"
    },
    "accelerator": "GPU"
  },
  "cells": [
    {
      "cell_type": "markdown",
      "metadata": {
        "id": "view-in-github",
        "colab_type": "text"
      },
      "source": [
        "<a href=\"https://colab.research.google.com/github/ggeorgekkariuki/Tensorflow-Plant-Classifier/blob/main/TF_Plant_Classification.ipynb\" target=\"_parent\"><img src=\"https://colab.research.google.com/assets/colab-badge.svg\" alt=\"Open In Colab\"/></a>"
      ]
    },
    {
      "cell_type": "code",
      "execution_count": 3,
      "metadata": {
        "colab": {
          "base_uri": "https://localhost:8080/"
        },
        "id": "YWjccpyv9kiM",
        "outputId": "083bce81-961d-4f5a-850e-016c77b290b1"
      },
      "outputs": [
        {
          "output_type": "stream",
          "name": "stdout",
          "text": [
            "`%tensorflow_version` only switches the major version: 1.x or 2.x.\n",
            "You set: `2.x  # this line is not required unless you are in a notebook`. This will be interpreted as: `2.x`.\n",
            "\n",
            "\n",
            "TensorFlow 2.x selected.\n"
          ]
        }
      ],
      "source": [
        "%tensorflow_version 2.x  # this line is not required unless you are in a notebook"
      ]
    },
    {
      "cell_type": "code",
      "source": [
        "from __future__ import absolute_import, division, print_function, unicode_literals\n",
        "\n",
        "\n",
        "import tensorflow as tf\n",
        "\n",
        "import pandas as pd"
      ],
      "metadata": {
        "id": "6e-RW82E99ss"
      },
      "execution_count": 4,
      "outputs": []
    },
    {
      "cell_type": "markdown",
      "source": [
        "### The Objective\n",
        "\n",
        "The objective of the project is to classify plants according to certain characteristics of the leaf."
      ],
      "metadata": {
        "id": "zd3D9PXx9-bU"
      }
    },
    {
      "cell_type": "markdown",
      "source": [
        "#### The Data Set\n",
        "\n",
        "This specific dataset seperates flowers into 3 different classes of species.\n",
        "\n",
        " - Setosa\n",
        " - Versicolor\n",
        " - Virginica\n",
        " \n",
        "The information about each flower is the following.\n",
        "\n",
        " - sepal length\n",
        " - sepal width\n",
        " - petal length\n",
        " - petal width"
      ],
      "metadata": {
        "id": "ZqhiPt1O_CuX"
      }
    },
    {
      "cell_type": "code",
      "source": [
        "CSV_COLUMN_NAMES = ['SepalLength', 'SepalWidth', 'PetalLength', 'PetalWidth', 'Species']\n",
        "SPECIES = ['Setosa', 'Versicolor', 'Virginica']\n",
        "# Lets define some constants to help us later on"
      ],
      "metadata": {
        "id": "yNN9efdo-elp"
      },
      "execution_count": 5,
      "outputs": []
    },
    {
      "cell_type": "code",
      "source": [
        "train_path = tf.keras.utils.get_file(\n",
        "    \"iris_training.csv\", \"https://storage.googleapis.com/download.tensorflow.org/data/iris_training.csv\")\n",
        "test_path = tf.keras.utils.get_file(\n",
        "    \"iris_test.csv\", \"https://storage.googleapis.com/download.tensorflow.org/data/iris_test.csv\")\n",
        "\n",
        "train = pd.read_csv(train_path, names=CSV_COLUMN_NAMES, header=0)\n",
        "test = pd.read_csv(test_path, names=CSV_COLUMN_NAMES, header=0)\n",
        "# Here we use keras (a module inside of TensorFlow) to grab our datasets and read them into a pandas dataframe"
      ],
      "metadata": {
        "colab": {
          "base_uri": "https://localhost:8080/"
        },
        "id": "ioHnkFJv-swq",
        "outputId": "bb33b814-b865-4cf4-bac8-3222386fd0d6"
      },
      "execution_count": 6,
      "outputs": [
        {
          "output_type": "stream",
          "name": "stdout",
          "text": [
            "Downloading data from https://storage.googleapis.com/download.tensorflow.org/data/iris_training.csv\n",
            "16384/2194 [================================================================================================================================================================================================================================] - 0s 0us/step\n",
            "Downloading data from https://storage.googleapis.com/download.tensorflow.org/data/iris_test.csv\n",
            "16384/573 [=========================================================================================================================================================================================================================================================================================================================================================================================================================================================================================================================================================================================================================================================================================================================================================================================================================================================================================] - 0s 0us/step\n"
          ]
        }
      ]
    },
    {
      "cell_type": "code",
      "source": [
        "train.head()"
      ],
      "metadata": {
        "colab": {
          "base_uri": "https://localhost:8080/",
          "height": 206
        },
        "id": "sEvbgiw8-xFw",
        "outputId": "211f90eb-7b17-4110-8028-bd387c01ca4f"
      },
      "execution_count": 7,
      "outputs": [
        {
          "output_type": "execute_result",
          "data": {
            "text/html": [
              "\n",
              "  <div id=\"df-58bde296-86de-4865-afbf-0aca05e72ebc\">\n",
              "    <div class=\"colab-df-container\">\n",
              "      <div>\n",
              "<style scoped>\n",
              "    .dataframe tbody tr th:only-of-type {\n",
              "        vertical-align: middle;\n",
              "    }\n",
              "\n",
              "    .dataframe tbody tr th {\n",
              "        vertical-align: top;\n",
              "    }\n",
              "\n",
              "    .dataframe thead th {\n",
              "        text-align: right;\n",
              "    }\n",
              "</style>\n",
              "<table border=\"1\" class=\"dataframe\">\n",
              "  <thead>\n",
              "    <tr style=\"text-align: right;\">\n",
              "      <th></th>\n",
              "      <th>SepalLength</th>\n",
              "      <th>SepalWidth</th>\n",
              "      <th>PetalLength</th>\n",
              "      <th>PetalWidth</th>\n",
              "      <th>Species</th>\n",
              "    </tr>\n",
              "  </thead>\n",
              "  <tbody>\n",
              "    <tr>\n",
              "      <th>0</th>\n",
              "      <td>6.4</td>\n",
              "      <td>2.8</td>\n",
              "      <td>5.6</td>\n",
              "      <td>2.2</td>\n",
              "      <td>2</td>\n",
              "    </tr>\n",
              "    <tr>\n",
              "      <th>1</th>\n",
              "      <td>5.0</td>\n",
              "      <td>2.3</td>\n",
              "      <td>3.3</td>\n",
              "      <td>1.0</td>\n",
              "      <td>1</td>\n",
              "    </tr>\n",
              "    <tr>\n",
              "      <th>2</th>\n",
              "      <td>4.9</td>\n",
              "      <td>2.5</td>\n",
              "      <td>4.5</td>\n",
              "      <td>1.7</td>\n",
              "      <td>2</td>\n",
              "    </tr>\n",
              "    <tr>\n",
              "      <th>3</th>\n",
              "      <td>4.9</td>\n",
              "      <td>3.1</td>\n",
              "      <td>1.5</td>\n",
              "      <td>0.1</td>\n",
              "      <td>0</td>\n",
              "    </tr>\n",
              "    <tr>\n",
              "      <th>4</th>\n",
              "      <td>5.7</td>\n",
              "      <td>3.8</td>\n",
              "      <td>1.7</td>\n",
              "      <td>0.3</td>\n",
              "      <td>0</td>\n",
              "    </tr>\n",
              "  </tbody>\n",
              "</table>\n",
              "</div>\n",
              "      <button class=\"colab-df-convert\" onclick=\"convertToInteractive('df-58bde296-86de-4865-afbf-0aca05e72ebc')\"\n",
              "              title=\"Convert this dataframe to an interactive table.\"\n",
              "              style=\"display:none;\">\n",
              "        \n",
              "  <svg xmlns=\"http://www.w3.org/2000/svg\" height=\"24px\"viewBox=\"0 0 24 24\"\n",
              "       width=\"24px\">\n",
              "    <path d=\"M0 0h24v24H0V0z\" fill=\"none\"/>\n",
              "    <path d=\"M18.56 5.44l.94 2.06.94-2.06 2.06-.94-2.06-.94-.94-2.06-.94 2.06-2.06.94zm-11 1L8.5 8.5l.94-2.06 2.06-.94-2.06-.94L8.5 2.5l-.94 2.06-2.06.94zm10 10l.94 2.06.94-2.06 2.06-.94-2.06-.94-.94-2.06-.94 2.06-2.06.94z\"/><path d=\"M17.41 7.96l-1.37-1.37c-.4-.4-.92-.59-1.43-.59-.52 0-1.04.2-1.43.59L10.3 9.45l-7.72 7.72c-.78.78-.78 2.05 0 2.83L4 21.41c.39.39.9.59 1.41.59.51 0 1.02-.2 1.41-.59l7.78-7.78 2.81-2.81c.8-.78.8-2.07 0-2.86zM5.41 20L4 18.59l7.72-7.72 1.47 1.35L5.41 20z\"/>\n",
              "  </svg>\n",
              "      </button>\n",
              "      \n",
              "  <style>\n",
              "    .colab-df-container {\n",
              "      display:flex;\n",
              "      flex-wrap:wrap;\n",
              "      gap: 12px;\n",
              "    }\n",
              "\n",
              "    .colab-df-convert {\n",
              "      background-color: #E8F0FE;\n",
              "      border: none;\n",
              "      border-radius: 50%;\n",
              "      cursor: pointer;\n",
              "      display: none;\n",
              "      fill: #1967D2;\n",
              "      height: 32px;\n",
              "      padding: 0 0 0 0;\n",
              "      width: 32px;\n",
              "    }\n",
              "\n",
              "    .colab-df-convert:hover {\n",
              "      background-color: #E2EBFA;\n",
              "      box-shadow: 0px 1px 2px rgba(60, 64, 67, 0.3), 0px 1px 3px 1px rgba(60, 64, 67, 0.15);\n",
              "      fill: #174EA6;\n",
              "    }\n",
              "\n",
              "    [theme=dark] .colab-df-convert {\n",
              "      background-color: #3B4455;\n",
              "      fill: #D2E3FC;\n",
              "    }\n",
              "\n",
              "    [theme=dark] .colab-df-convert:hover {\n",
              "      background-color: #434B5C;\n",
              "      box-shadow: 0px 1px 3px 1px rgba(0, 0, 0, 0.15);\n",
              "      filter: drop-shadow(0px 1px 2px rgba(0, 0, 0, 0.3));\n",
              "      fill: #FFFFFF;\n",
              "    }\n",
              "  </style>\n",
              "\n",
              "      <script>\n",
              "        const buttonEl =\n",
              "          document.querySelector('#df-58bde296-86de-4865-afbf-0aca05e72ebc button.colab-df-convert');\n",
              "        buttonEl.style.display =\n",
              "          google.colab.kernel.accessAllowed ? 'block' : 'none';\n",
              "\n",
              "        async function convertToInteractive(key) {\n",
              "          const element = document.querySelector('#df-58bde296-86de-4865-afbf-0aca05e72ebc');\n",
              "          const dataTable =\n",
              "            await google.colab.kernel.invokeFunction('convertToInteractive',\n",
              "                                                     [key], {});\n",
              "          if (!dataTable) return;\n",
              "\n",
              "          const docLinkHtml = 'Like what you see? Visit the ' +\n",
              "            '<a target=\"_blank\" href=https://colab.research.google.com/notebooks/data_table.ipynb>data table notebook</a>'\n",
              "            + ' to learn more about interactive tables.';\n",
              "          element.innerHTML = '';\n",
              "          dataTable['output_type'] = 'display_data';\n",
              "          await google.colab.output.renderOutput(dataTable, element);\n",
              "          const docLink = document.createElement('div');\n",
              "          docLink.innerHTML = docLinkHtml;\n",
              "          element.appendChild(docLink);\n",
              "        }\n",
              "      </script>\n",
              "    </div>\n",
              "  </div>\n",
              "  "
            ],
            "text/plain": [
              "   SepalLength  SepalWidth  PetalLength  PetalWidth  Species\n",
              "0          6.4         2.8          5.6         2.2        2\n",
              "1          5.0         2.3          3.3         1.0        1\n",
              "2          4.9         2.5          4.5         1.7        2\n",
              "3          4.9         3.1          1.5         0.1        0\n",
              "4          5.7         3.8          1.7         0.3        0"
            ]
          },
          "metadata": {},
          "execution_count": 7
        }
      ]
    },
    {
      "cell_type": "markdown",
      "source": [
        "Remove the 'SPECIES' column that will be our label."
      ],
      "metadata": {
        "id": "DeG_eWFJ_c2y"
      }
    },
    {
      "cell_type": "code",
      "source": [
        "train_y = train.pop('Species')\n",
        "test_y = test.pop('Species')"
      ],
      "metadata": {
        "id": "A-GfjZ6x-_aw"
      },
      "execution_count": 8,
      "outputs": []
    },
    {
      "cell_type": "code",
      "source": [
        "train.head()"
      ],
      "metadata": {
        "colab": {
          "base_uri": "https://localhost:8080/",
          "height": 206
        },
        "id": "3wD2cy7dAXy5",
        "outputId": "f46bd92d-842b-43d1-bb9d-0e1af392c417"
      },
      "execution_count": 9,
      "outputs": [
        {
          "output_type": "execute_result",
          "data": {
            "text/html": [
              "\n",
              "  <div id=\"df-85623dc4-2d20-4610-a5be-65010d98189e\">\n",
              "    <div class=\"colab-df-container\">\n",
              "      <div>\n",
              "<style scoped>\n",
              "    .dataframe tbody tr th:only-of-type {\n",
              "        vertical-align: middle;\n",
              "    }\n",
              "\n",
              "    .dataframe tbody tr th {\n",
              "        vertical-align: top;\n",
              "    }\n",
              "\n",
              "    .dataframe thead th {\n",
              "        text-align: right;\n",
              "    }\n",
              "</style>\n",
              "<table border=\"1\" class=\"dataframe\">\n",
              "  <thead>\n",
              "    <tr style=\"text-align: right;\">\n",
              "      <th></th>\n",
              "      <th>SepalLength</th>\n",
              "      <th>SepalWidth</th>\n",
              "      <th>PetalLength</th>\n",
              "      <th>PetalWidth</th>\n",
              "    </tr>\n",
              "  </thead>\n",
              "  <tbody>\n",
              "    <tr>\n",
              "      <th>0</th>\n",
              "      <td>6.4</td>\n",
              "      <td>2.8</td>\n",
              "      <td>5.6</td>\n",
              "      <td>2.2</td>\n",
              "    </tr>\n",
              "    <tr>\n",
              "      <th>1</th>\n",
              "      <td>5.0</td>\n",
              "      <td>2.3</td>\n",
              "      <td>3.3</td>\n",
              "      <td>1.0</td>\n",
              "    </tr>\n",
              "    <tr>\n",
              "      <th>2</th>\n",
              "      <td>4.9</td>\n",
              "      <td>2.5</td>\n",
              "      <td>4.5</td>\n",
              "      <td>1.7</td>\n",
              "    </tr>\n",
              "    <tr>\n",
              "      <th>3</th>\n",
              "      <td>4.9</td>\n",
              "      <td>3.1</td>\n",
              "      <td>1.5</td>\n",
              "      <td>0.1</td>\n",
              "    </tr>\n",
              "    <tr>\n",
              "      <th>4</th>\n",
              "      <td>5.7</td>\n",
              "      <td>3.8</td>\n",
              "      <td>1.7</td>\n",
              "      <td>0.3</td>\n",
              "    </tr>\n",
              "  </tbody>\n",
              "</table>\n",
              "</div>\n",
              "      <button class=\"colab-df-convert\" onclick=\"convertToInteractive('df-85623dc4-2d20-4610-a5be-65010d98189e')\"\n",
              "              title=\"Convert this dataframe to an interactive table.\"\n",
              "              style=\"display:none;\">\n",
              "        \n",
              "  <svg xmlns=\"http://www.w3.org/2000/svg\" height=\"24px\"viewBox=\"0 0 24 24\"\n",
              "       width=\"24px\">\n",
              "    <path d=\"M0 0h24v24H0V0z\" fill=\"none\"/>\n",
              "    <path d=\"M18.56 5.44l.94 2.06.94-2.06 2.06-.94-2.06-.94-.94-2.06-.94 2.06-2.06.94zm-11 1L8.5 8.5l.94-2.06 2.06-.94-2.06-.94L8.5 2.5l-.94 2.06-2.06.94zm10 10l.94 2.06.94-2.06 2.06-.94-2.06-.94-.94-2.06-.94 2.06-2.06.94z\"/><path d=\"M17.41 7.96l-1.37-1.37c-.4-.4-.92-.59-1.43-.59-.52 0-1.04.2-1.43.59L10.3 9.45l-7.72 7.72c-.78.78-.78 2.05 0 2.83L4 21.41c.39.39.9.59 1.41.59.51 0 1.02-.2 1.41-.59l7.78-7.78 2.81-2.81c.8-.78.8-2.07 0-2.86zM5.41 20L4 18.59l7.72-7.72 1.47 1.35L5.41 20z\"/>\n",
              "  </svg>\n",
              "      </button>\n",
              "      \n",
              "  <style>\n",
              "    .colab-df-container {\n",
              "      display:flex;\n",
              "      flex-wrap:wrap;\n",
              "      gap: 12px;\n",
              "    }\n",
              "\n",
              "    .colab-df-convert {\n",
              "      background-color: #E8F0FE;\n",
              "      border: none;\n",
              "      border-radius: 50%;\n",
              "      cursor: pointer;\n",
              "      display: none;\n",
              "      fill: #1967D2;\n",
              "      height: 32px;\n",
              "      padding: 0 0 0 0;\n",
              "      width: 32px;\n",
              "    }\n",
              "\n",
              "    .colab-df-convert:hover {\n",
              "      background-color: #E2EBFA;\n",
              "      box-shadow: 0px 1px 2px rgba(60, 64, 67, 0.3), 0px 1px 3px 1px rgba(60, 64, 67, 0.15);\n",
              "      fill: #174EA6;\n",
              "    }\n",
              "\n",
              "    [theme=dark] .colab-df-convert {\n",
              "      background-color: #3B4455;\n",
              "      fill: #D2E3FC;\n",
              "    }\n",
              "\n",
              "    [theme=dark] .colab-df-convert:hover {\n",
              "      background-color: #434B5C;\n",
              "      box-shadow: 0px 1px 3px 1px rgba(0, 0, 0, 0.15);\n",
              "      filter: drop-shadow(0px 1px 2px rgba(0, 0, 0, 0.3));\n",
              "      fill: #FFFFFF;\n",
              "    }\n",
              "  </style>\n",
              "\n",
              "      <script>\n",
              "        const buttonEl =\n",
              "          document.querySelector('#df-85623dc4-2d20-4610-a5be-65010d98189e button.colab-df-convert');\n",
              "        buttonEl.style.display =\n",
              "          google.colab.kernel.accessAllowed ? 'block' : 'none';\n",
              "\n",
              "        async function convertToInteractive(key) {\n",
              "          const element = document.querySelector('#df-85623dc4-2d20-4610-a5be-65010d98189e');\n",
              "          const dataTable =\n",
              "            await google.colab.kernel.invokeFunction('convertToInteractive',\n",
              "                                                     [key], {});\n",
              "          if (!dataTable) return;\n",
              "\n",
              "          const docLinkHtml = 'Like what you see? Visit the ' +\n",
              "            '<a target=\"_blank\" href=https://colab.research.google.com/notebooks/data_table.ipynb>data table notebook</a>'\n",
              "            + ' to learn more about interactive tables.';\n",
              "          element.innerHTML = '';\n",
              "          dataTable['output_type'] = 'display_data';\n",
              "          await google.colab.output.renderOutput(dataTable, element);\n",
              "          const docLink = document.createElement('div');\n",
              "          docLink.innerHTML = docLinkHtml;\n",
              "          element.appendChild(docLink);\n",
              "        }\n",
              "      </script>\n",
              "    </div>\n",
              "  </div>\n",
              "  "
            ],
            "text/plain": [
              "   SepalLength  SepalWidth  PetalLength  PetalWidth\n",
              "0          6.4         2.8          5.6         2.2\n",
              "1          5.0         2.3          3.3         1.0\n",
              "2          4.9         2.5          4.5         1.7\n",
              "3          4.9         3.1          1.5         0.1\n",
              "4          5.7         3.8          1.7         0.3"
            ]
          },
          "metadata": {},
          "execution_count": 9
        }
      ]
    },
    {
      "cell_type": "code",
      "source": [
        "train_y.shape"
      ],
      "metadata": {
        "colab": {
          "base_uri": "https://localhost:8080/"
        },
        "id": "aElv3h2zA18m",
        "outputId": "62112e04-f960-4b53-f192-11d359290ddb"
      },
      "execution_count": 11,
      "outputs": [
        {
          "output_type": "execute_result",
          "data": {
            "text/plain": [
              "(120,)"
            ]
          },
          "metadata": {},
          "execution_count": 11
        }
      ]
    },
    {
      "cell_type": "markdown",
      "source": [
        "### Preprocessing"
      ],
      "metadata": {
        "id": "QCxlBObCAigj"
      }
    },
    {
      "cell_type": "markdown",
      "source": [
        "#### The Input Function"
      ],
      "metadata": {
        "id": "hFDOOitSAgBn"
      }
    },
    {
      "cell_type": "code",
      "source": [
        "def input_fn(features, labels, training=True, batch_size=256):\n",
        "    # Convert the inputs to a Dataset.\n",
        "    dataset = tf.data.Dataset.from_tensor_slices((dict(features), labels))\n",
        "\n",
        "    # Shuffle and repeat if you are in training mode.\n",
        "    if training:\n",
        "        dataset = dataset.shuffle(1000).repeat()\n",
        "    \n",
        "    return dataset.batch(batch_size)"
      ],
      "metadata": {
        "id": "ja9BFufoAcqz"
      },
      "execution_count": 18,
      "outputs": []
    },
    {
      "cell_type": "code",
      "source": [
        ""
      ],
      "metadata": {
        "id": "fgD1di4Zvh9J"
      },
      "execution_count": 18,
      "outputs": []
    },
    {
      "cell_type": "markdown",
      "source": [
        "#### Feature Columns"
      ],
      "metadata": {
        "id": "--1Hl3QgB0TT"
      }
    },
    {
      "cell_type": "code",
      "source": [
        "my_feature_columns = []\n",
        "\n",
        "for fc in train.keys():\n",
        "  my_feature_columns.append(tf.feature_column.numeric_column(key=fc))\n",
        "\n",
        "for i in my_feature_columns:\n",
        "  print(i)"
      ],
      "metadata": {
        "colab": {
          "base_uri": "https://localhost:8080/"
        },
        "id": "bFEcDfbaBx3p",
        "outputId": "33b96960-ffd1-49a4-922e-3d8cd1aa5eb0"
      },
      "execution_count": 12,
      "outputs": [
        {
          "output_type": "stream",
          "name": "stdout",
          "text": [
            "NumericColumn(key='SepalLength', shape=(1,), default_value=None, dtype=tf.float32, normalizer_fn=None)\n",
            "NumericColumn(key='SepalWidth', shape=(1,), default_value=None, dtype=tf.float32, normalizer_fn=None)\n",
            "NumericColumn(key='PetalLength', shape=(1,), default_value=None, dtype=tf.float32, normalizer_fn=None)\n",
            "NumericColumn(key='PetalWidth', shape=(1,), default_value=None, dtype=tf.float32, normalizer_fn=None)\n"
          ]
        }
      ]
    },
    {
      "cell_type": "markdown",
      "source": [
        "### Build the model\n",
        "\n",
        "We will use the Deep Neural Network Classifier from tf.estimator.DNNClassifier.\n",
        "\n",
        "This layer will use 2 hidden layers with 30 and 10 nodes respectively"
      ],
      "metadata": {
        "id": "DlPXXRzqCixo"
      }
    },
    {
      "cell_type": "code",
      "source": [
        "classifier = tf.estimator.DNNClassifier(\n",
        "    hidden_units = [30, 10],\n",
        "    feature_columns=my_feature_columns,\n",
        "    n_classes=3 # based on the plant classes tht there are.\n",
        ")"
      ],
      "metadata": {
        "colab": {
          "base_uri": "https://localhost:8080/"
        },
        "id": "k-fBcu5FCfkM",
        "outputId": "74c32080-0810-46ee-baba-f9ff4beb6b09"
      },
      "execution_count": 25,
      "outputs": [
        {
          "output_type": "stream",
          "name": "stdout",
          "text": [
            "INFO:tensorflow:Using default config.\n",
            "WARNING:tensorflow:Using temporary folder as model directory: /tmp/tmpolnqwrkw\n",
            "INFO:tensorflow:Using config: {'_model_dir': '/tmp/tmpolnqwrkw', '_tf_random_seed': None, '_save_summary_steps': 100, '_save_checkpoints_steps': None, '_save_checkpoints_secs': 600, '_session_config': allow_soft_placement: true\n",
            "graph_options {\n",
            "  rewrite_options {\n",
            "    meta_optimizer_iterations: ONE\n",
            "  }\n",
            "}\n",
            ", '_keep_checkpoint_max': 5, '_keep_checkpoint_every_n_hours': 10000, '_log_step_count_steps': 100, '_train_distribute': None, '_device_fn': None, '_protocol': None, '_eval_distribute': None, '_experimental_distribute': None, '_experimental_max_worker_delay_secs': None, '_session_creation_timeout_secs': 7200, '_checkpoint_save_graph_def': True, '_service': None, '_cluster_spec': ClusterSpec({}), '_task_type': 'worker', '_task_id': 0, '_global_id_in_cluster': 0, '_master': '', '_evaluation_master': '', '_is_chief': True, '_num_ps_replicas': 0, '_num_worker_replicas': 1}\n"
          ]
        }
      ]
    },
    {
      "cell_type": "markdown",
      "source": [
        "### Training\n",
        "\n",
        "Now it's time to train the model!"
      ],
      "metadata": {
        "id": "ito0DwCqAaFL"
      }
    },
    {
      "cell_type": "code",
      "source": [
        "classifier.train(\n",
        "    input_fn= lambda: input_fn(train, train_y, training=True),\n",
        "    steps=10000\n",
        ")\n",
        "# We include a lambda to avoid creating an inner function previously"
      ],
      "metadata": {
        "colab": {
          "base_uri": "https://localhost:8080/"
        },
        "id": "D9T-gyAOF94R",
        "outputId": "295d1baa-8308-416c-d6d0-7acb2a8f3072"
      },
      "execution_count": 28,
      "outputs": [
        {
          "output_type": "stream",
          "name": "stdout",
          "text": [
            "INFO:tensorflow:Calling model_fn.\n",
            "INFO:tensorflow:Done calling model_fn.\n",
            "INFO:tensorflow:Create CheckpointSaverHook.\n",
            "INFO:tensorflow:Graph was finalized.\n",
            "INFO:tensorflow:Restoring parameters from /tmp/tmpolnqwrkw/model.ckpt-5000\n",
            "WARNING:tensorflow:From /usr/local/lib/python3.7/dist-packages/tensorflow/python/training/saver.py:1165: get_checkpoint_mtimes (from tensorflow.python.training.checkpoint_management) is deprecated and will be removed in a future version.\n",
            "Instructions for updating:\n",
            "Use standard file utilities to get mtimes.\n",
            "INFO:tensorflow:Running local_init_op.\n",
            "INFO:tensorflow:Done running local_init_op.\n",
            "INFO:tensorflow:Calling checkpoint listeners before saving checkpoint 5000...\n",
            "INFO:tensorflow:Saving checkpoints for 5000 into /tmp/tmpolnqwrkw/model.ckpt.\n",
            "INFO:tensorflow:Calling checkpoint listeners after saving checkpoint 5000...\n",
            "INFO:tensorflow:loss = 0.45991808, step = 5000\n",
            "INFO:tensorflow:global_step/sec: 220.269\n",
            "INFO:tensorflow:loss = 0.44698358, step = 5100 (0.459 sec)\n",
            "INFO:tensorflow:global_step/sec: 257.829\n",
            "INFO:tensorflow:loss = 0.45742542, step = 5200 (0.385 sec)\n",
            "INFO:tensorflow:global_step/sec: 251.79\n",
            "INFO:tensorflow:loss = 0.44380224, step = 5300 (0.401 sec)\n",
            "INFO:tensorflow:global_step/sec: 255.143\n",
            "INFO:tensorflow:loss = 0.46099013, step = 5400 (0.388 sec)\n",
            "INFO:tensorflow:global_step/sec: 265.444\n",
            "INFO:tensorflow:loss = 0.44899452, step = 5500 (0.382 sec)\n",
            "INFO:tensorflow:global_step/sec: 244.759\n",
            "INFO:tensorflow:loss = 0.43754983, step = 5600 (0.407 sec)\n",
            "INFO:tensorflow:global_step/sec: 237.432\n",
            "INFO:tensorflow:loss = 0.43744472, step = 5700 (0.421 sec)\n",
            "INFO:tensorflow:global_step/sec: 254.639\n",
            "INFO:tensorflow:loss = 0.43687427, step = 5800 (0.393 sec)\n",
            "INFO:tensorflow:global_step/sec: 254.706\n",
            "INFO:tensorflow:loss = 0.42789352, step = 5900 (0.393 sec)\n",
            "INFO:tensorflow:global_step/sec: 256.163\n",
            "INFO:tensorflow:loss = 0.4166763, step = 6000 (0.390 sec)\n",
            "INFO:tensorflow:global_step/sec: 251.289\n",
            "INFO:tensorflow:loss = 0.4213059, step = 6100 (0.397 sec)\n",
            "INFO:tensorflow:global_step/sec: 259.875\n",
            "INFO:tensorflow:loss = 0.4170511, step = 6200 (0.386 sec)\n",
            "INFO:tensorflow:global_step/sec: 263.464\n",
            "INFO:tensorflow:loss = 0.4169795, step = 6300 (0.380 sec)\n",
            "INFO:tensorflow:global_step/sec: 254.9\n",
            "INFO:tensorflow:loss = 0.41788578, step = 6400 (0.392 sec)\n",
            "INFO:tensorflow:global_step/sec: 260.867\n",
            "INFO:tensorflow:loss = 0.41620526, step = 6500 (0.384 sec)\n",
            "INFO:tensorflow:global_step/sec: 255.235\n",
            "INFO:tensorflow:loss = 0.4215438, step = 6600 (0.390 sec)\n",
            "INFO:tensorflow:global_step/sec: 261.006\n",
            "INFO:tensorflow:loss = 0.41608265, step = 6700 (0.383 sec)\n",
            "INFO:tensorflow:global_step/sec: 260.847\n",
            "INFO:tensorflow:loss = 0.40749204, step = 6800 (0.384 sec)\n",
            "INFO:tensorflow:global_step/sec: 252.77\n",
            "INFO:tensorflow:loss = 0.39878458, step = 6900 (0.396 sec)\n",
            "INFO:tensorflow:global_step/sec: 256.399\n",
            "INFO:tensorflow:loss = 0.41331744, step = 7000 (0.389 sec)\n",
            "INFO:tensorflow:global_step/sec: 259.116\n",
            "INFO:tensorflow:loss = 0.3913194, step = 7100 (0.386 sec)\n",
            "INFO:tensorflow:global_step/sec: 259.354\n",
            "INFO:tensorflow:loss = 0.40096954, step = 7200 (0.385 sec)\n",
            "INFO:tensorflow:global_step/sec: 262.464\n",
            "INFO:tensorflow:loss = 0.39032975, step = 7300 (0.383 sec)\n",
            "INFO:tensorflow:global_step/sec: 256.31\n",
            "INFO:tensorflow:loss = 0.39382958, step = 7400 (0.388 sec)\n",
            "INFO:tensorflow:global_step/sec: 257.898\n",
            "INFO:tensorflow:loss = 0.39022923, step = 7500 (0.388 sec)\n",
            "INFO:tensorflow:global_step/sec: 256.885\n",
            "INFO:tensorflow:loss = 0.38881028, step = 7600 (0.389 sec)\n",
            "INFO:tensorflow:global_step/sec: 251.646\n",
            "INFO:tensorflow:loss = 0.39195275, step = 7700 (0.397 sec)\n",
            "INFO:tensorflow:global_step/sec: 262.028\n",
            "INFO:tensorflow:loss = 0.38653442, step = 7800 (0.382 sec)\n",
            "INFO:tensorflow:global_step/sec: 253.062\n",
            "INFO:tensorflow:loss = 0.39470568, step = 7900 (0.393 sec)\n",
            "INFO:tensorflow:global_step/sec: 264.034\n",
            "INFO:tensorflow:loss = 0.38074473, step = 8000 (0.380 sec)\n",
            "INFO:tensorflow:global_step/sec: 256.37\n",
            "INFO:tensorflow:loss = 0.37883356, step = 8100 (0.387 sec)\n",
            "INFO:tensorflow:global_step/sec: 252.706\n",
            "INFO:tensorflow:loss = 0.3838464, step = 8200 (0.401 sec)\n",
            "INFO:tensorflow:global_step/sec: 257.569\n",
            "INFO:tensorflow:loss = 0.3757075, step = 8300 (0.386 sec)\n",
            "INFO:tensorflow:global_step/sec: 248.896\n",
            "INFO:tensorflow:loss = 0.37555557, step = 8400 (0.407 sec)\n",
            "INFO:tensorflow:global_step/sec: 250.14\n",
            "INFO:tensorflow:loss = 0.3796652, step = 8500 (0.394 sec)\n",
            "INFO:tensorflow:global_step/sec: 264.487\n",
            "INFO:tensorflow:loss = 0.37020433, step = 8600 (0.378 sec)\n",
            "INFO:tensorflow:global_step/sec: 256.72\n",
            "INFO:tensorflow:loss = 0.36032084, step = 8700 (0.389 sec)\n",
            "INFO:tensorflow:global_step/sec: 260.71\n",
            "INFO:tensorflow:loss = 0.3716131, step = 8800 (0.383 sec)\n",
            "INFO:tensorflow:global_step/sec: 261.411\n",
            "INFO:tensorflow:loss = 0.36321238, step = 8900 (0.383 sec)\n",
            "INFO:tensorflow:global_step/sec: 147.218\n",
            "INFO:tensorflow:loss = 0.35908943, step = 9000 (0.682 sec)\n",
            "INFO:tensorflow:global_step/sec: 147.239\n",
            "INFO:tensorflow:loss = 0.35991502, step = 9100 (0.684 sec)\n",
            "INFO:tensorflow:global_step/sec: 229.124\n",
            "INFO:tensorflow:loss = 0.3580018, step = 9200 (0.430 sec)\n",
            "INFO:tensorflow:global_step/sec: 237.283\n",
            "INFO:tensorflow:loss = 0.3604345, step = 9300 (0.421 sec)\n",
            "INFO:tensorflow:global_step/sec: 250.735\n",
            "INFO:tensorflow:loss = 0.36270103, step = 9400 (0.399 sec)\n",
            "INFO:tensorflow:global_step/sec: 260.037\n",
            "INFO:tensorflow:loss = 0.34565032, step = 9500 (0.385 sec)\n",
            "INFO:tensorflow:global_step/sec: 253.494\n",
            "INFO:tensorflow:loss = 0.35559925, step = 9600 (0.394 sec)\n",
            "INFO:tensorflow:global_step/sec: 258.894\n",
            "INFO:tensorflow:loss = 0.35545743, step = 9700 (0.387 sec)\n",
            "INFO:tensorflow:global_step/sec: 262.094\n",
            "INFO:tensorflow:loss = 0.34865764, step = 9800 (0.381 sec)\n",
            "INFO:tensorflow:global_step/sec: 252.191\n",
            "INFO:tensorflow:loss = 0.3368082, step = 9900 (0.396 sec)\n",
            "INFO:tensorflow:global_step/sec: 251.094\n",
            "INFO:tensorflow:loss = 0.3586713, step = 10000 (0.399 sec)\n",
            "INFO:tensorflow:global_step/sec: 250.8\n",
            "INFO:tensorflow:loss = 0.3443882, step = 10100 (0.401 sec)\n",
            "INFO:tensorflow:global_step/sec: 253.834\n",
            "INFO:tensorflow:loss = 0.35045853, step = 10200 (0.392 sec)\n",
            "INFO:tensorflow:global_step/sec: 251.472\n",
            "INFO:tensorflow:loss = 0.3313162, step = 10300 (0.393 sec)\n",
            "INFO:tensorflow:global_step/sec: 248.742\n",
            "INFO:tensorflow:loss = 0.33453634, step = 10400 (0.402 sec)\n",
            "INFO:tensorflow:global_step/sec: 256.803\n",
            "INFO:tensorflow:loss = 0.34109932, step = 10500 (0.393 sec)\n",
            "INFO:tensorflow:global_step/sec: 253.647\n",
            "INFO:tensorflow:loss = 0.33599553, step = 10600 (0.394 sec)\n",
            "INFO:tensorflow:global_step/sec: 260.105\n",
            "INFO:tensorflow:loss = 0.3297656, step = 10700 (0.383 sec)\n",
            "INFO:tensorflow:global_step/sec: 267.866\n",
            "INFO:tensorflow:loss = 0.34278223, step = 10800 (0.375 sec)\n",
            "INFO:tensorflow:global_step/sec: 237.944\n",
            "INFO:tensorflow:loss = 0.3214903, step = 10900 (0.419 sec)\n",
            "INFO:tensorflow:global_step/sec: 254.9\n",
            "INFO:tensorflow:loss = 0.33053872, step = 11000 (0.393 sec)\n",
            "INFO:tensorflow:global_step/sec: 253.403\n",
            "INFO:tensorflow:loss = 0.32551068, step = 11100 (0.394 sec)\n",
            "INFO:tensorflow:global_step/sec: 249.109\n",
            "INFO:tensorflow:loss = 0.31970784, step = 11200 (0.401 sec)\n",
            "INFO:tensorflow:global_step/sec: 262.432\n",
            "INFO:tensorflow:loss = 0.32236132, step = 11300 (0.381 sec)\n",
            "INFO:tensorflow:global_step/sec: 255.341\n",
            "INFO:tensorflow:loss = 0.32283556, step = 11400 (0.391 sec)\n",
            "INFO:tensorflow:global_step/sec: 258.152\n",
            "INFO:tensorflow:loss = 0.3179144, step = 11500 (0.387 sec)\n",
            "INFO:tensorflow:global_step/sec: 259.797\n",
            "INFO:tensorflow:loss = 0.31842828, step = 11600 (0.389 sec)\n",
            "INFO:tensorflow:global_step/sec: 246.293\n",
            "INFO:tensorflow:loss = 0.32309178, step = 11700 (0.404 sec)\n",
            "INFO:tensorflow:global_step/sec: 259.617\n",
            "INFO:tensorflow:loss = 0.3041839, step = 11800 (0.385 sec)\n",
            "INFO:tensorflow:global_step/sec: 266.967\n",
            "INFO:tensorflow:loss = 0.31799906, step = 11900 (0.377 sec)\n",
            "INFO:tensorflow:global_step/sec: 255.991\n",
            "INFO:tensorflow:loss = 0.30580628, step = 12000 (0.385 sec)\n",
            "INFO:tensorflow:global_step/sec: 263.316\n",
            "INFO:tensorflow:loss = 0.30882668, step = 12100 (0.384 sec)\n",
            "INFO:tensorflow:global_step/sec: 254.671\n",
            "INFO:tensorflow:loss = 0.31400773, step = 12200 (0.393 sec)\n",
            "INFO:tensorflow:global_step/sec: 253.723\n",
            "INFO:tensorflow:loss = 0.3025572, step = 12300 (0.394 sec)\n",
            "INFO:tensorflow:global_step/sec: 255.889\n",
            "INFO:tensorflow:loss = 0.2972829, step = 12400 (0.389 sec)\n",
            "INFO:tensorflow:global_step/sec: 260.472\n",
            "INFO:tensorflow:loss = 0.3072365, step = 12500 (0.387 sec)\n",
            "INFO:tensorflow:global_step/sec: 265.749\n",
            "INFO:tensorflow:loss = 0.29725337, step = 12600 (0.374 sec)\n",
            "INFO:tensorflow:global_step/sec: 254.749\n",
            "INFO:tensorflow:loss = 0.30346704, step = 12700 (0.392 sec)\n",
            "INFO:tensorflow:global_step/sec: 256.491\n",
            "INFO:tensorflow:loss = 0.30520096, step = 12800 (0.391 sec)\n",
            "INFO:tensorflow:global_step/sec: 259.576\n",
            "INFO:tensorflow:loss = 0.30439356, step = 12900 (0.385 sec)\n",
            "INFO:tensorflow:global_step/sec: 251.986\n",
            "INFO:tensorflow:loss = 0.30672163, step = 13000 (0.397 sec)\n",
            "INFO:tensorflow:global_step/sec: 260.572\n",
            "INFO:tensorflow:loss = 0.29829073, step = 13100 (0.385 sec)\n",
            "INFO:tensorflow:global_step/sec: 258.636\n",
            "INFO:tensorflow:loss = 0.3037064, step = 13200 (0.386 sec)\n",
            "INFO:tensorflow:global_step/sec: 256.296\n",
            "INFO:tensorflow:loss = 0.30065995, step = 13300 (0.392 sec)\n",
            "INFO:tensorflow:global_step/sec: 259.973\n",
            "INFO:tensorflow:loss = 0.3007607, step = 13400 (0.385 sec)\n",
            "INFO:tensorflow:global_step/sec: 254.284\n",
            "INFO:tensorflow:loss = 0.28898346, step = 13500 (0.392 sec)\n",
            "INFO:tensorflow:global_step/sec: 254.017\n",
            "INFO:tensorflow:loss = 0.28631, step = 13600 (0.395 sec)\n",
            "INFO:tensorflow:global_step/sec: 257.197\n",
            "INFO:tensorflow:loss = 0.2902705, step = 13700 (0.389 sec)\n",
            "INFO:tensorflow:global_step/sec: 249.793\n",
            "INFO:tensorflow:loss = 0.2963442, step = 13800 (0.399 sec)\n",
            "INFO:tensorflow:global_step/sec: 265.449\n",
            "INFO:tensorflow:loss = 0.28327948, step = 13900 (0.378 sec)\n",
            "INFO:tensorflow:global_step/sec: 255.699\n",
            "INFO:tensorflow:loss = 0.28809103, step = 14000 (0.387 sec)\n",
            "INFO:tensorflow:global_step/sec: 254.457\n",
            "INFO:tensorflow:loss = 0.2989772, step = 14100 (0.397 sec)\n",
            "INFO:tensorflow:global_step/sec: 257.346\n",
            "INFO:tensorflow:loss = 0.28531298, step = 14200 (0.389 sec)\n",
            "INFO:tensorflow:global_step/sec: 255.528\n",
            "INFO:tensorflow:loss = 0.2829628, step = 14300 (0.393 sec)\n",
            "INFO:tensorflow:global_step/sec: 263.139\n",
            "INFO:tensorflow:loss = 0.2782898, step = 14400 (0.378 sec)\n",
            "INFO:tensorflow:global_step/sec: 262.79\n",
            "INFO:tensorflow:loss = 0.28018412, step = 14500 (0.380 sec)\n",
            "INFO:tensorflow:global_step/sec: 257.429\n",
            "INFO:tensorflow:loss = 0.27656135, step = 14600 (0.388 sec)\n",
            "INFO:tensorflow:global_step/sec: 258.954\n",
            "INFO:tensorflow:loss = 0.27615243, step = 14700 (0.390 sec)\n",
            "INFO:tensorflow:global_step/sec: 250.223\n",
            "INFO:tensorflow:loss = 0.26871386, step = 14800 (0.397 sec)\n",
            "INFO:tensorflow:global_step/sec: 254.571\n",
            "INFO:tensorflow:loss = 0.27595338, step = 14900 (0.390 sec)\n",
            "INFO:tensorflow:Calling checkpoint listeners before saving checkpoint 15000...\n",
            "INFO:tensorflow:Saving checkpoints for 15000 into /tmp/tmpolnqwrkw/model.ckpt.\n",
            "INFO:tensorflow:Calling checkpoint listeners after saving checkpoint 15000...\n",
            "INFO:tensorflow:Loss for final step: 0.26815066.\n"
          ]
        },
        {
          "output_type": "execute_result",
          "data": {
            "text/plain": [
              "<tensorflow_estimator.python.estimator.canned.dnn.DNNClassifierV2 at 0x7f036d6b1f10>"
            ]
          },
          "metadata": {},
          "execution_count": 28
        }
      ]
    },
    {
      "cell_type": "markdown",
      "source": [
        "### Evaluation"
      ],
      "metadata": {
        "id": "7bvrH18_G3Yr"
      }
    },
    {
      "cell_type": "code",
      "source": [
        "eval_result = classifier.evaluate(\n",
        "    input_fn= lambda: input_fn(test, test_y, training=False)\n",
        ")\n",
        "print('\\nTest set accuracy: {accuracy:0.3f}\\n'.format(**eval_result))"
      ],
      "metadata": {
        "colab": {
          "base_uri": "https://localhost:8080/"
        },
        "id": "C7VwuQ8Zx3aV",
        "outputId": "6514d57a-66b1-4665-808b-5be8f4a05f6a"
      },
      "execution_count": 29,
      "outputs": [
        {
          "output_type": "stream",
          "name": "stdout",
          "text": [
            "INFO:tensorflow:Calling model_fn.\n",
            "INFO:tensorflow:Done calling model_fn.\n",
            "INFO:tensorflow:Starting evaluation at 2021-12-24T18:56:23\n",
            "INFO:tensorflow:Graph was finalized.\n",
            "INFO:tensorflow:Restoring parameters from /tmp/tmpolnqwrkw/model.ckpt-15000\n",
            "INFO:tensorflow:Running local_init_op.\n",
            "INFO:tensorflow:Done running local_init_op.\n",
            "INFO:tensorflow:Inference Time : 0.30127s\n",
            "INFO:tensorflow:Finished evaluation at 2021-12-24-18:56:23\n",
            "INFO:tensorflow:Saving dict for global step 15000: accuracy = 0.96666664, average_loss = 0.31797117, global_step = 15000, loss = 0.31797117\n",
            "INFO:tensorflow:Saving 'checkpoint_path' summary for global step 15000: /tmp/tmpolnqwrkw/model.ckpt-15000\n",
            "\n",
            "Test set accuracy: 0.967\n",
            "\n"
          ]
        }
      ]
    },
    {
      "cell_type": "markdown",
      "source": [
        "Observation:\n",
        "\n",
        "With 5000 steps the score was very low - Meaning only about half are right.\n",
        "\n",
        "Increasing the steps to 10000 produces a great accuracy score, and a low loss figure, but there could be overfitting in the training."
      ],
      "metadata": {
        "id": "8qmJ_ZdTyi0p"
      }
    },
    {
      "cell_type": "markdown",
      "source": [
        "### Predictions\n",
        "Now that we have a trained model it's time to use it to make predictions."
      ],
      "metadata": {
        "id": "RWstEQKK0IeE"
      }
    },
    {
      "cell_type": "code",
      "source": [
        "def input_fn(features, batch_size=256):\n",
        "  return tf.data.Dataset.from_tensor_slices(dict(features)).batch(batch_size)\n",
        "\n",
        "features = ['SepalLength', 'SepalWidth', 'PetalLength', 'PetalWidth']\n",
        "predict = {}\n",
        "\n",
        "print(\"Type numeric values as prompted\")\n",
        "for i in features:\n",
        "  valid=True\n",
        "  while valid:\n",
        "    val = input(i + ': ')\n",
        "    if not val.isdigit(): valid=False\n",
        "\n",
        "  predict[i] = [float(val)]\n",
        "\n",
        "predictions = classifier.predict(input_fn=lambda: input_fn(predict))\n",
        "\n",
        "for pred_dict in predictions:\n",
        "  class_id = pred_dict['class_ids'][0] # Picks the first list in the list of lists\n",
        "  probability = pred_dict['probabilities'][class_id]\n",
        "\n",
        "  print('Prediction is \"{}\" ({:.1f}%)'.format(\n",
        "        SPECIES[class_id], 100 * probability))\n"
      ],
      "metadata": {
        "colab": {
          "base_uri": "https://localhost:8080/"
        },
        "id": "2iSt-zTs0H4A",
        "outputId": "72dd912f-c368-49da-dc87-6a1cb2136d94"
      },
      "execution_count": 48,
      "outputs": [
        {
          "output_type": "stream",
          "name": "stdout",
          "text": [
            "Type numeric values as prompted\n",
            "SepalLength: 6.9\n",
            "SepalWidth: 3.1\n",
            "PetalLength: 5.4\n",
            "PetalWidth: 2.1\n",
            "INFO:tensorflow:Calling model_fn.\n",
            "INFO:tensorflow:Done calling model_fn.\n",
            "INFO:tensorflow:Graph was finalized.\n",
            "INFO:tensorflow:Restoring parameters from /tmp/tmpolnqwrkw/model.ckpt-15000\n",
            "INFO:tensorflow:Running local_init_op.\n",
            "INFO:tensorflow:Done running local_init_op.\n",
            "Prediction is \"Virginica\" (69.7%)\n"
          ]
        }
      ]
    },
    {
      "cell_type": "markdown",
      "source": [
        "expected = ['Setosa', 'Versicolor', 'Virginica']\n",
        "\n",
        "predict_x = {\n",
        "-    'SepalLength': [5.1, 5.9, 6.9],\n",
        "-   'SepalWidth': [3.3, 3.0, 3.1],\n",
        "-   'PetalLength': [1.7, 4.2, 5.4],\n",
        "-   'PetalWidth': [0.5, 1.5, 2.1],\n",
        "}"
      ],
      "metadata": {
        "id": "pWKUaRyU73_W"
      }
    },
    {
      "cell_type": "code",
      "source": [
        "# for pred_dict in predictions:\n",
        "#   class_id = pred_dict['class_ids'][0] # Picks the first list in the list of lists\n",
        "#   probability = pred_dict['probabilities'][class_id]\n",
        "\n",
        "#   print('Prediction is \"{}\" ({:.1f}%)'.format(\n",
        "#         SPECIES[class_id], 100 * probability))\n",
        "\n",
        "for i in predictions:\n",
        "  print(i)"
      ],
      "metadata": {
        "colab": {
          "base_uri": "https://localhost:8080/"
        },
        "id": "FeGM9TkY2fbX",
        "outputId": "099aa7b9-7f14-4bf0-bd47-e79bca399938"
      },
      "execution_count": 45,
      "outputs": [
        {
          "output_type": "stream",
          "name": "stdout",
          "text": [
            "INFO:tensorflow:Calling model_fn.\n",
            "INFO:tensorflow:Done calling model_fn.\n",
            "INFO:tensorflow:Graph was finalized.\n",
            "INFO:tensorflow:Restoring parameters from /tmp/tmpolnqwrkw/model.ckpt-15000\n",
            "INFO:tensorflow:Running local_init_op.\n",
            "INFO:tensorflow:Done running local_init_op.\n",
            "{'logits': array([-0.09987579,  2.562227  ,  1.8665528 ], dtype=float32), 'probabilities': array([0.04450082, 0.6375358 , 0.3179634 ], dtype=float32), 'class_ids': array([1]), 'classes': array([b'1'], dtype=object), 'all_class_ids': array([0, 1, 2], dtype=int32), 'all_classes': array([b'0', b'1', b'2'], dtype=object)}\n"
          ]
        }
      ]
    },
    {
      "cell_type": "markdown",
      "source": [
        "{\n",
        "  'logits': array([ 4.694751 ,  2.4289007, -1.8772026], dtype=float32),'probabilities': array([0.90486205, 0.09387203, 0.00126596], dtype=float32), 'class_ids': array([0]), 'classes': array([b'0'], dtype=object), 'all_class_ids': array([0, 1, 2], dtype=int32), 'all_classes': array([b'0', b'1', b'2'], dtype=object)}\n"
      ],
      "metadata": {
        "id": "MpHJI42l4vpg"
      }
    },
    {
      "cell_type": "code",
      "source": [
        "for pred_dict in predictions:\n",
        "  classid = pred_dict['class_ids'][0]\n",
        "  probs = pred_dict['probabilities'][classid]\n",
        "  \n",
        "  print(SPECIES[classid], 'predicted with', probs*100, '% probability')"
      ],
      "metadata": {
        "id": "LCEa0L9N3I_x"
      },
      "execution_count": 46,
      "outputs": []
    }
  ]
}