{
  "nbformat": 4,
  "nbformat_minor": 0,
  "metadata": {
    "colab": {
      "name": "TF Clustering.ipynb",
      "provenance": [],
      "authorship_tag": "ABX9TyOHVU1j3Zx52xnTO0uqp345",
      "include_colab_link": true
    },
    "kernelspec": {
      "name": "python3",
      "display_name": "Python 3"
    },
    "language_info": {
      "name": "python"
    }
  },
  "cells": [
    {
      "cell_type": "markdown",
      "metadata": {
        "id": "view-in-github",
        "colab_type": "text"
      },
      "source": [
        "<a href=\"https://colab.research.google.com/github/ggeorgekkariuki/Tensorflow-Plant-Classifier/blob/main/TF_Clustering.ipynb\" target=\"_parent\"><img src=\"https://colab.research.google.com/assets/colab-badge.svg\" alt=\"Open In Colab\"/></a>"
      ]
    },
    {
      "cell_type": "markdown",
      "source": [
        "## Clustering\n",
        "\n",
        "\n",
        "Clustering is a Machine Learning technique that involves the grouping of data points. In theory, data points that are in the same group should have similar properties and/or features, while data points in different groups should have highly dissimilar properties and/or features. (https://towardsdatascience.com/the-5-clustering-algorithms-data-scientists-need-to-know-a36d136ef68)\n",
        "\n",
        "\n",
        "####Basic Algorithm for K-Means.\n",
        "- Step 1: Randomly pick K points to place K centroids\n",
        "- Step 2: Assign all the data points to the centroids by distance. The closest centroid to a point is the one it is assigned to.\n",
        "- Step 3: Average all the points belonging to each centroid to find the middle of those clusters (center of mass). Place the corresponding centroids into that position.\n",
        "- Step 4: Reassign every point once again to the closest centroid.\n",
        "- Step 5: Repeat steps 3-4 until no point changes which centroid it belongs to.\n"
      ],
      "metadata": {
        "id": "1DrUbNT3CJBW"
      }
    },
    {
      "cell_type": "markdown",
      "source": [
        "### Hidden Markov Models\n",
        "\n",
        "A hidden markov model works with probabilities to predict future events or states. In this section we will learn how to create a hidden markov model that can predict the weather.\n",
        "\n",
        "Components of a markov model.\n",
        "\n",
        "**States:** In each markov model we have a finite set of states. These states could be something like \"warm\" and \"cold\" or \"high\" and \"low\" or even \"red\", \"green\" and \"blue\". These states are \"hidden\" within the model, which means we do not direcly observe them.\n",
        "\n",
        "**Observations:** Each state has a particular outcome or observation associated with it based on a probability distribution. An example of this is the following: *On a hot day Tim has a 80% chance of being happy and a 20% chance of being sad.*\n",
        "\n",
        "**Transitions:** Each state will have a probability defining the likelyhood of transitioning to a different state. An example is the following: *a cold day has a 30% chance of being followed by a hot day and a 70% chance of being follwed by another cold day.*\n",
        "\n",
        "To create a hidden markov model we need.\n",
        "- States\n",
        "- Observation Distribution\n",
        "- Transition Distribution\n"
      ],
      "metadata": {
        "id": "2qkc_DhBG9t6"
      }
    },
    {
      "cell_type": "code",
      "source": [
        "%tensorflow_version 2.x  # this line is not required unless you are in a notebook"
      ],
      "metadata": {
        "colab": {
          "base_uri": "https://localhost:8080/"
        },
        "id": "iFCJ_FY1IexO",
        "outputId": "2ae11d5d-bd39-494a-cc3a-ab5119901c9d"
      },
      "execution_count": 2,
      "outputs": [
        {
          "output_type": "stream",
          "name": "stdout",
          "text": [
            "`%tensorflow_version` only switches the major version: 1.x or 2.x.\n",
            "You set: `2.x  # this line is not required unless you are in a notebook`. This will be interpreted as: `2.x`.\n",
            "\n",
            "\n",
            "TensorFlow is already loaded. Please restart the runtime to change versions.\n"
          ]
        }
      ]
    },
    {
      "cell_type": "code",
      "source": [
        "import tensorflow_probability as tfp  # We are using a different module from tensorflow this time\n",
        "import tensorflow as tf"
      ],
      "metadata": {
        "id": "20V8BfO-Ictq"
      },
      "execution_count": 1,
      "outputs": []
    },
    {
      "cell_type": "markdown",
      "source": [
        "A Weather Nodel using the Hidden Markov Model"
      ],
      "metadata": {
        "id": "Za27JCSZOLyt"
      }
    },
    {
      "cell_type": "code",
      "source": [
        "tfd = tfp.distributions\n",
        "\n",
        "# Represent a cold day with 0 and a hot day with 1.\n",
        "# Suppose the first day of a sequence has a 0.8 chance of being cold.\n",
        "# We can model this using the categorical distribution:\n",
        "initial_distributions = tfd.Categorical([0.8, 0.2]) # cold, hot\n",
        "\n",
        "\n",
        "# Suppose a cold day has a 30% chance of being followed by a hot day\n",
        "# and a hot day has a 20% chance of being followed by a cold day.\n",
        "# We can model this as:\n",
        "transition_distribution = tfd.Categorical(probs=[[0.7, 0.3], \n",
        "                                                 [0.2, 0.8]])\n",
        "\n",
        "# Suppose additionally that on each day the temperature is\n",
        "# normally distributed with mean and standard deviation 0 and 5 on\n",
        "# a cold day and mean and standard deviation 15 and 10 on a hot day.\n",
        "# We can model this with:\n",
        "observation_distribution = tfd.Normal(loc = [0., 15.], scale=[5., 10.])"
      ],
      "metadata": {
        "id": "XpAGLODGNrX1"
      },
      "execution_count": 3,
      "outputs": []
    },
    {
      "cell_type": "code",
      "source": [
        "# We can combine these distributions into a single week long\n",
        "# hidden Markov model with:\n",
        "model = tfd.HiddenMarkovModel(\n",
        "    initial_distribution=initial_distributions,\n",
        "    transition_distribution=transition_distribution,\n",
        "    observation_distribution=observation_distribution,\n",
        "    num_steps=7\n",
        ")"
      ],
      "metadata": {
        "id": "ok6khhGXSyek"
      },
      "execution_count": 4,
      "outputs": []
    },
    {
      "cell_type": "code",
      "source": [
        "# The expected temperatures for each day are given by:\n",
        "\n",
        "model.mean()  # shape [7], elements approach 9.0\n"
      ],
      "metadata": {
        "colab": {
          "base_uri": "https://localhost:8080/"
        },
        "id": "vLsyXT7UTLik",
        "outputId": "0b83a717-f019-44fd-e222-40a5a41fbd43"
      },
      "execution_count": 5,
      "outputs": [
        {
          "output_type": "execute_result",
          "data": {
            "text/plain": [
              "<tf.Tensor: shape=(7,), dtype=float32, numpy=\n",
              "array([5.315155, 7.157577, 8.078789, 8.539393, 8.769697, 8.884848,\n",
              "       8.942423], dtype=float32)>"
            ]
          },
          "metadata": {},
          "execution_count": 5
        }
      ]
    },
    {
      "cell_type": "code",
      "source": [
        "\n",
        "# The log pdf of a week of temperature 0 is:\n",
        "\n",
        "model.log_prob(tf.zeros(shape=[7]))"
      ],
      "metadata": {
        "colab": {
          "base_uri": "https://localhost:8080/"
        },
        "id": "hzj0pdgSTSrn",
        "outputId": "92dcb2d2-4c6b-48f8-c37e-f53f63e70545"
      },
      "execution_count": 6,
      "outputs": [
        {
          "output_type": "execute_result",
          "data": {
            "text/plain": [
              "<tf.Tensor: shape=(), dtype=float32, numpy=-20.053804>"
            ]
          },
          "metadata": {},
          "execution_count": 6
        }
      ]
    }
  ]
}